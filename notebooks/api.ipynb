{
 "cells": [
  {
   "cell_type": "code",
   "execution_count": null,
   "metadata": {},
   "outputs": [],
   "source": [
    "### DO NOT CHANGE ###\n",
    "%load_ext autoreload\n",
    "%autoreload 2\n",
    "\n",
    "! git clone https://github.com/Momentum-AI-Org/project.git\n",
    "% cd project \n",
    "! pip install -e .\n",
    "\n",
    "from src.api import APIConfig, setup_script\n",
    "APIConfig.PROJECT_NAME = 'bing'\n",
    "setup_script()\n",
    "### DO NOT CHANGE ###"
   ]
  },
  {
   "cell_type": "markdown",
   "metadata": {},
   "source": [
    "# Grabbing your dataset\n",
    "Machine learning is all about data, so lets start by downloading some data. Use the `make_bing_dataset` function to get your dataset, and store the result in variables. Make sure you use expressive variable names! Use the function documentation for `make_bing_dataset` below to make a  `train`, `test`, and `validation` dataset.\n",
    "\n",
    "```python\n",
    "    def make_bing_dataset(\n",
    "        search_string_1: str,\n",
    "        search_string_2: str\n",
    "        ) -> Tuple[Dataset, Dataset, Dataset]:\n",
    "        \"\"\"\n",
    "        Creates train, test, and validation datasets by downloading images from Bing using the search strings you provide. For instance `make_bing_dataset(\"cats\", \"dogs\")` makes datasets out of images of cats and dogs (downloaded from Bing).\n",
    "\n",
    "        Params:\n",
    "            search_string_1 [str]: First string to search on Bing.\n",
    "            search_string_2 [str]: Second string to search on Bing.\n",
    "\n",
    "        Returns:\n",
    "            train_dataset [Dataset]: Dataset with training data.\n",
    "            validate_dataset [Dataset]: Dataset with validation data.\n",
    "            test_dataset [Dataset]: Dataset with testing data.\n",
    "\n",
    "        \"\"\"\n",
    "```"
   ]
  },
  {
   "cell_type": "code",
   "execution_count": null,
   "metadata": {},
   "outputs": [],
   "source": [
    "\n",
    "### what students see\n",
    "\n",
    "\n",
    "### solution  \n",
    "train_dataset, validate_dataset, test_dataset = get_dataset()"
   ]
  }
 ],
 "metadata": {
  "language_info": {
   "name": "python"
  },
  "orig_nbformat": 4
 },
 "nbformat": 4,
 "nbformat_minor": 2
}
