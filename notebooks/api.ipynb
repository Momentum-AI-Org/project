{
 "cells": [
  {
   "cell_type": "code",
   "execution_count": null,
   "metadata": {},
   "outputs": [],
   "source": [
    "### DO NOT CHANGE ###\n",
    "%load_ext autoreload\n",
    "%autoreload 2\n",
    "\n",
    "! git clone https://github.com/Momentum-AI-Org/project.git\n",
    "% cd project \n",
    "! pip install -e .\n",
    "\n",
    "from src.api import APIConfig, setup_script\n",
    "APIConfig.PROJECT_NAME = 'bing'\n",
    "setup_script()\n",
    "### DO NOT CHANGE ###"
   ]
  },
  {
   "cell_type": "markdown",
   "metadata": {},
   "source": [
    "# 1. Grabbing your dataset\n",
    "Machine learning is all about data, so lets start by downloading some data. Use the `make_bing_dataset` function to get your dataset, and store the result in variables. Make sure you use expressive variable names! Use the function documentation for `make_bing_dataset` below to make a  `train`, `test`, and `validation` dataset.\n",
    "\n",
    "```python\n",
    "    def make_bing_datasets(\n",
    "        search_string_1: str,\n",
    "        search_string_2: str\n",
    "        ) -> Tuple[Dataset, Dataset, Dataset]:\n",
    "        \"\"\"\n",
    "        Creates train, test, and validation datasets by downloading images from Bing using the search strings you provide. For instance `make_bing_dataset(\"cats\", \"dogs\")` makes datasets out of images of cats and dogs (downloaded from Bing).\n",
    "\n",
    "        Params:\n",
    "            search_string_1 [str]: First string to search on Bing.\n",
    "            search_string_2 [str]: Second string to search on Bing.\n",
    "\n",
    "        Returns:\n",
    "            train_dataset [Dataset]: Dataset with training data.\n",
    "            validate_dataset [Dataset]: Dataset with validation data.\n",
    "            test_dataset [Dataset]: Dataset with testing data.\n",
    "\n",
    "        \"\"\"\n",
    "```"
   ]
  },
  {
   "cell_type": "code",
   "execution_count": null,
   "metadata": {},
   "outputs": [],
   "source": [
    "\n",
    "### what students see\n",
    "\n",
    "# YOUR CODE HERE\n",
    "# For reference, our solution is 1 line of code.\n",
    "\n",
    "### solution  \n",
    "train_dataset, validate_dataset, test_dataset = make_bing_datasets()"
   ]
  },
  {
   "cell_type": "markdown",
   "metadata": {},
   "source": [
    "# 2. Understanding your data\n",
    "\n",
    "\n",
    "One of the most important aspects of deep learning is to understand the data you are using. Lets try to do that. \n",
    "\n",
    "# 2.1 How much data?\n",
    "First question: How much data do we have? Run the cell below to find out."
   ]
  },
  {
   "cell_type": "code",
   "execution_count": null,
   "metadata": {},
   "outputs": [],
   "source": [
    "print(train_dataset.summary())"
   ]
  },
  {
   "cell_type": "markdown",
   "metadata": {},
   "source": [
    "# 2.2 Visualize your data\n",
    "Use the function documentation for `visualize_data` to visualize your `train_dataset`. You may also try visualizing your `validate_dataset` and `test_dataset`.\n",
    "\n",
    "Answer the following questions:\n",
    "- Does the data look like what you expected? If not, you may need to revise your search queries above!\n",
    "- Whats in the foreground of the images that you see?\n",
    "- Whats in the background?\n",
    "- What colors are the objects in the images that you see? Is there one color that stands out?\n",
    "- Are the images blurry or clear?"
   ]
  },
  {
   "cell_type": "code",
   "execution_count": null,
   "metadata": {},
   "outputs": [],
   "source": [
    "\n",
    "### what students see\n",
    "\n",
    "# YOUR CODE HERE\n",
    "# For reference, our solution is 1 line of code.\n",
    "\n",
    "### solution  \n",
    "visualize_data(train_dataset, 25)"
   ]
  },
  {
   "cell_type": "markdown",
   "metadata": {},
   "source": [
    "# 3. Build your model\n",
    "\n",
    "Its time to build your model! Function documentation for `make_image_classifier` to make the model with your desired parameters"
   ]
  },
  {
   "cell_type": "code",
   "execution_count": null,
   "metadata": {},
   "outputs": [],
   "source": [
    "\n",
    "### what students see\n",
    "\n",
    "# YOUR CODE HERE\n",
    "# For reference, our solution is 1 line of code.\n",
    "\n",
    "### solution  \n",
    "make_image_classifier(num_hidden_layers=10, activation='relu')"
   ]
  },
  {
   "cell_type": "code",
   "execution_count": null,
   "metadata": {},
   "outputs": [],
   "source": [
    "# https://github.com/waleedka/hiddenlayer/blob/master/demos/pytorch_graph.ipynb"
   ]
  }
 ],
 "metadata": {
  "language_info": {
   "name": "python"
  },
  "orig_nbformat": 4
 },
 "nbformat": 4,
 "nbformat_minor": 2
}
