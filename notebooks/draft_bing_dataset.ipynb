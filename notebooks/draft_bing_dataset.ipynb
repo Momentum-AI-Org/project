{
  "nbformat": 4,
  "nbformat_minor": 0,
  "metadata": {
    "colab": {
      "name": "Project Dev.ipynb",
      "provenance": [],
      "collapsed_sections": [],
      "authorship_tag": "ABX9TyPm7rb9EbsHqqo72mZabvJm"
    },
    "kernelspec": {
      "name": "python3",
      "display_name": "Python 3"
    },
    "language_info": {
      "name": "python"
    }
  },
  "cells": [
    {
      "cell_type": "code",
      "source": [
        "%load_ext autoreload\n",
        "%autoreload 2\n",
        "\n",
        "! git clone https://github.com/Momentum-AI-Org/project.git\n",
        "% cd project \n",
        "\n",
        "# replace 'another-one' with your dev branch name\n",
        "! git checkout another-one "
      ],
      "metadata": {
        "id": "4VKB2HeaB4T4"
      },
      "execution_count": null,
      "outputs": []
    },
    {
      "cell_type": "code",
      "execution_count": null,
      "metadata": {
        "id": "OzCBC6_c42d5"
      },
      "outputs": [],
      "source": [
        "! git pull\n",
        "! pip install -e ."
      ]
    },
    {
      "cell_type": "code",
      "source": [
        "from src.thing import Thing\n",
        "x = Thing(1,2)\n",
        "print(x.a, x.b, x.c, x.d)"
      ],
      "metadata": {
        "id": "QW_2_FIt6OgS"
      },
      "execution_count": null,
      "outputs": []
    },
    {
      "cell_type": "markdown",
      "source": [
        "\n",
        "## Overall Structure\n",
        "\n",
        "* Understand your data\n",
        "* Setup data for training (train, test, val)\n",
        "* Setup model architecture \n",
        "* Set hyperparams\n",
        "* Train model (vis outputs + train, val graph) --> adjust above and retrain\n",
        "* Visualize results on test set\n",
        "* Load your own data & visualize\n",
        "\n"
      ],
      "metadata": {
        "id": "RSI5Hu0PGFFN"
      }
    },
    {
      "cell_type": "code",
      "source": [
        ""
      ],
      "metadata": {
        "id": "CneS16II_H-H"
      },
      "execution_count": null,
      "outputs": []
    }
  ]
}